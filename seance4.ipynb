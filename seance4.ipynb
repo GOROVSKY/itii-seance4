{
 "cells": [
  {
   "cell_type": "markdown",
   "metadata": {},
   "source": [
    "#Seance 4"
   ]
  },
  {
   "cell_type": "markdown",
   "metadata": {},
   "source": [
    "Ex 1: Racine quatrième \n",
    "\n",
    "Pour un nombre réel b positif, il existe un unique réel a positif tel que b^n = a. Ce réel est appelé la racine n-ième de b (ou racine n-ième principale de b).\n",
    "\n",
    "1. Donner la fonction python racine(,bn,e) qui donnée la racine n-eme de b avec une précision de e\n"
   ]
  },
  {
   "cell_type": "code",
   "execution_count": 4,
   "metadata": {},
   "outputs": [
    {
     "name": "stdout",
     "output_type": "stream",
     "text": [
      "2.0009999999998906\n"
     ]
    }
   ],
   "source": [
    "def racine(b,n,e):\n",
    "    r = e\n",
    "    while r**n < b:\n",
    "        r+=e\n",
    "    print(r)\n",
    "\n",
    "racine(16,4,0.001)"
   ]
  },
  {
   "cell_type": "markdown",
   "metadata": {},
   "source": [
    "Ex 2: Racine d'un polynome\n",
    "On appelle racine d'une polynome P une solution de l'équation (E): P(x)=0. \n",
    "\n",
    "On considère le trinome ax2+bx+c.\n",
    "\n",
    "Faire un algorithme pour trouver si il a des racines, combien, et calculer leur valeur. "
   ]
  },
  {
   "cell_type": "code",
   "execution_count": 13,
   "metadata": {},
   "outputs": [
    {
     "name": "stdout",
     "output_type": "stream",
     "text": [
      "Solutions de  3 x^2 + 2 x + 1 = 0\n",
      "Aucune solution\n",
      "None\n"
     ]
    }
   ],
   "source": [
    "from math import sqrt\n",
    "\n",
    "def polynome(a, b, c, x):\n",
    "    print (\"En\", x, \":\", a * x * x + b * x + c)\n",
    "\n",
    "def racine(a, b, c):\n",
    "    print(\"Solutions de \", a, \"x^2 +\", b, \"x +\", c, \"= 0\")\n",
    "    if a == 0:\n",
    "        if b == 0:\n",
    "            if c == 0:\n",
    "                print (\"Tout r ́eel est solution\")\n",
    "            else :\n",
    "                print (\"Aucune solution\")\n",
    "        else :\n",
    "            x = (-c * 1.0) / b\n",
    "            print (\"Une solution :\", xpolynome(a, b, c, x))\n",
    "    else :\n",
    "        d = b * b - 4 * a * c\n",
    "    if(d == 0): \n",
    "        x = -b / (2.0 * a) \n",
    "        print (\"Une solution :\", xpolynome(a, b, c, x) )\n",
    "    elif(d > 0):\n",
    "        r = sqrt(d) \n",
    "        x1 = (-b - r) / (2.0 * a) \n",
    "        x2 = (-b + r) / (2.0 * a)\n",
    "        print (\"Deux solutions :\", x1, \"et\", x2)\n",
    "        polynome(a, b, c, x1) \n",
    "        polynome(a, b, c, x2)\n",
    "    else :\n",
    "        print (\"Aucune solution\")\n",
    "\n",
    "print(racine(3,2,1))"
   ]
  },
  {
   "cell_type": "markdown",
   "metadata": {},
   "source": [
    "#Introduction a Sympy \n",
    " \n",
    "Le module Sympy  permet de faire du calcul symbolique. Par exemple, le nombre √8 est représenté par Python comme un flottant"
   ]
  },
  {
   "cell_type": "code",
   "execution_count": 7,
   "metadata": {},
   "outputs": [
    {
     "data": {
      "image/png": "[encoded data removed]",
      "text/latex": [
       "$$2.8284271247461903$$"
      ],
      "text/plain": [
       "2.8284271247461903"
      ]
     },
     "execution_count": 7,
     "metadata": {},
     "output_type": "execute_result"
    }
   ],
   "source": [
    "import math\n",
    "math.sqrt(8)"
   ]
  },
  {
   "cell_type": "markdown",
   "metadata": {},
   "source": [
    "L’avantage de Sympy est que √8 est gardé en tant racine et même automatiquement simplifié"
   ]
  },
  {
   "cell_type": "code",
   "execution_count": 9,
   "metadata": {},
   "outputs": [
    {
     "data": {
      "image/png": "[encoded data removed]",
      "text/latex": [
       "$$2 \\sqrt{2}$$"
      ],
      "text/plain": [
       "2⋅√2"
      ]
     },
     "execution_count": 9,
     "metadata": {},
     "output_type": "execute_result"
    }
   ],
   "source": [
    "from sympy import *\n",
    "import sympy as sp\n",
    "\n",
    "init_printing()\n",
    "sqrt(8)"
   ]
  },
  {
   "cell_type": "markdown",
   "metadata": {},
   "source": [
    "Ex3 : Introduction\n",
    "Avant de pourvoir utiliser des variables symboliques, il faut les déclarer comme symboles:"
   ]
  },
  {
   "cell_type": "code",
   "execution_count": 69,
   "metadata": {},
   "outputs": [
    {
     "data": {
      "image/png": "[encoded data removed]",
      "text/latex": [
       "$$\\frac{\\varepsilon}{4} + x^{2} + 4 x + 4 y$$"
      ],
      "text/plain": [
       "\\varepsilon    2            \n",
       "─────────── + x  + 4⋅x + 4⋅y\n",
       "     4                      "
      ]
     },
     "execution_count": 69,
     "metadata": {},
     "output_type": "execute_result"
    }
   ],
   "source": [
    "x = sp.Symbol(\"x\")# definit le symbole x\n",
    "y = sp.Symbol(\"y\", real=True)# définit la variable réelle y\n",
    "e = sp.Symbol(r\"\\varepsilon\", real=True, positive=True)# définit epsilon positif\n",
    "\n",
    "x + 2*y + e/4 + x**2 + 3*x + 2*y"
   ]
  },
  {
   "cell_type": "markdown",
   "metadata": {},
   "source": [
    "1. Lire la doc de la fonction solve et l’utiliser pour calculer les racines d’un polynôme général de degré deux, puis de degré trois\n",
    "2. Lire la documentation des fonctions evalf et N pour évaluer l’expression π^2/4\n",
    "3. Déterminer la partie réelle et imaginaire de l’expression : (1+i√3)^20 / 1+i\n",
    "4. Lire la documentation de la fonction diff et calculer la dérivée de xe^x^x^x par rapport à x.\n",
    "5. Calculer avec Sympy les limites suivantes :\n",
    " * L1= lim x→0 sin(x)/x,\n",
    " * L2= lim x→0 sin(1/x),\n",
    " "
   ]
  },
  {
   "cell_type": "markdown",
   "metadata": {},
   "source": [
    "Question 1"
   ]
  },
  {
   "cell_type": "code",
   "execution_count": 70,
   "metadata": {},
   "outputs": [
    {
     "data": {
      "image/png": "[encoded data removed]",
      "text/latex": [
       "$$\\left\\{- \\frac{5}{2} - \\frac{\\sqrt{17}}{2}, - \\frac{5}{2} + \\frac{\\sqrt{17}}{2}\\right\\}$$"
      ],
      "text/plain": [
       "⎧  5   √17    5   √17⎫\n",
       "⎨- ─ - ───, - ─ + ───⎬\n",
       "⎩  2    2     2    2 ⎭"
      ]
     },
     "execution_count": 70,
     "metadata": {},
     "output_type": "execute_result"
    }
   ],
   "source": [
    "solveset(x**2 + 5*x + 2, x)"
   ]
  },
  {
   "cell_type": "code",
   "execution_count": 71,
   "metadata": {},
   "outputs": [
    {
     "data": {
      "image/png": "[encoded data removed]",
      "text/latex": [
       "$$\\left\\{- \\frac{14}{9 \\sqrt[3]{\\frac{151}{54} + \\frac{\\sqrt{417}}{6}}} - \\frac{1}{3} + \\sqrt[3]{\\frac{151}{54} + \\frac{\\sqrt{417}}{6}}, - \\frac{1}{2} \\sqrt[3]{\\frac{151}{54} + \\frac{\\sqrt{417}}{6}} - \\frac{1}{3} + \\frac{7}{9 \\sqrt[3]{\\frac{151}{54} + \\frac{\\sqrt{417}}{6}}} + i \\left(\\frac{7 \\sqrt{3}}{9 \\sqrt[3]{\\frac{151}{54} + \\frac{\\sqrt{417}}{6}}} + \\frac{\\sqrt{3}}{2} \\sqrt[3]{\\frac{151}{54} + \\frac{\\sqrt{417}}{6}}\\right), - \\frac{1}{2} \\sqrt[3]{\\frac{151}{54} + \\frac{\\sqrt{417}}{6}} - \\frac{1}{3} + \\frac{7}{9 \\sqrt[3]{\\frac{151}{54} + \\frac{\\sqrt{417}}{6}}} + i \\left(- \\frac{\\sqrt{3}}{2} \\sqrt[3]{\\frac{151}{54} + \\frac{\\sqrt{417}}{6}} - \\frac{7 \\sqrt{3}}{9 \\sqrt[3]{\\frac{151}{54} + \\frac{\\sqrt{417}}{6}}}\\right)\\right\\}$$"
      ],
      "text/plain": [
       "⎧                                                   ____________              \n",
       "⎪                                                  ╱ 151   √417               \n",
       "⎪                               ____________    3 ╱  ─── + ────               \n",
       "⎪          14           1      ╱ 151   √417     ╲╱    54    6      1          \n",
       "⎨- ────────────────── - ─ + 3 ╱  ─── + ──── , - ──────────────── - ─ + ───────\n",
       "⎪        ____________   3   ╲╱    54    6              2           3         _\n",
       "⎪       ╱ 151   √417                                                        ╱ \n",
       "⎪  9⋅3 ╱  ─── + ────                                                   9⋅3 ╱  \n",
       "⎩    ╲╱    54    6                                                       ╲╱   \n",
       "\n",
       "                ⎛                            ____________⎞        ____________\n",
       "                ⎜                           ╱ 151   √417 ⎟       ╱ 151   √417 \n",
       "                ⎜                     √3⋅3 ╱  ─── + ──── ⎟    3 ╱  ─── + ──── \n",
       " 7              ⎜       7⋅√3             ╲╱    54    6   ⎟    ╲╱    54    6   \n",
       "─────────── + ⅈ⋅⎜────────────────── + ───────────────────⎟, - ────────────────\n",
       "___________     ⎜      ____________            2         ⎟           2        \n",
       "151   √417      ⎜     ╱ 151   √417                       ⎟                    \n",
       "─── + ────      ⎜9⋅3 ╱  ─── + ────                       ⎟                    \n",
       " 54    6        ⎝  ╲╱    54    6                         ⎠                    \n",
       "\n",
       "                              ⎛         ____________                     ⎞⎫\n",
       "                              ⎜        ╱ 151   √417                      ⎟⎪\n",
       "                              ⎜  √3⋅3 ╱  ─── + ────                      ⎟⎪\n",
       "   1           7              ⎜     ╲╱    54    6             7⋅√3       ⎟⎪\n",
       " - ─ + ────────────────── + ⅈ⋅⎜- ─────────────────── - ──────────────────⎟⎬\n",
       "   3         ____________     ⎜           2                  ____________⎟⎪\n",
       "            ╱ 151   √417      ⎜                             ╱ 151   √417 ⎟⎪\n",
       "       9⋅3 ╱  ─── + ────      ⎜                        9⋅3 ╱  ─── + ──── ⎟⎪\n",
       "         ╲╱    54    6        ⎝                          ╲╱    54    6   ⎠⎭"
      ]
     },
     "execution_count": 71,
     "metadata": {},
     "output_type": "execute_result"
    }
   ],
   "source": [
    "solveset(x**3 + x**2 + 5*x - 4, x)"
   ]
  },
  {
   "cell_type": "markdown",
   "metadata": {},
   "source": [
    "Question 2"
   ]
  },
  {
   "cell_type": "code",
   "execution_count": 53,
   "metadata": {},
   "outputs": [
    {
     "data": {
      "image/png": "[encoded data removed]",
      "text/latex": [
       "$$1.4142135623731$$"
      ],
      "text/plain": [
       "1.41421356237310"
      ]
     },
     "execution_count": 53,
     "metadata": {},
     "output_type": "execute_result"
    }
   ],
   "source": [
    "x = pi.evalf(100)**2/4\n",
    "N(x)"
   ]
  },
  {
   "cell_type": "markdown",
   "metadata": {},
   "source": [
    "Question 3"
   ]
  },
  {
   "cell_type": "code",
   "execution_count": 90,
   "metadata": {},
   "outputs": [
    {
     "data": {
      "image/png": "[encoded data removed]",
      "text/latex": [
       "$$-524288.0$$"
      ],
      "text/plain": [
       "-524288.000000000"
      ]
     },
     "execution_count": 90,
     "metadata": {},
     "output_type": "execute_result"
    }
   ],
   "source": [
    "expr = (1 + I * sqrt(3)) ** 20 / 1 + I \n",
    "N(expr.as_real_imag()[0])"
   ]
  },
  {
   "cell_type": "code",
   "execution_count": 91,
   "metadata": {},
   "outputs": [
    {
     "data": {
      "image/png": "[encoded data removed]",
      "text/latex": [
       "$$908094.453798671$$"
      ],
      "text/plain": [
       "908094.453798671"
      ]
     },
     "execution_count": 91,
     "metadata": {},
     "output_type": "execute_result"
    }
   ],
   "source": [
    "N(expr.as_real_imag()[1])"
   ]
  },
  {
   "cell_type": "markdown",
   "metadata": {},
   "source": [
    "Question 4"
   ]
  },
  {
   "cell_type": "code",
   "execution_count": 77,
   "metadata": {},
   "outputs": [
    {
     "data": {
      "image/png": "[encoded data removed]",
      "text/latex": [
       "$$x \\left(x^{x^{x}} \\left(x^{x} \\left(\\log{\\left (x \\right )} + 1\\right) \\log{\\left (x \\right )} + \\frac{x^{x}}{x}\\right) \\log{\\left (e^{x} \\right )} + x^{x^{x}}\\right) \\left(e^{x}\\right)^{x^{x^{x}}} + \\left(e^{x}\\right)^{x^{x^{x}}}$$"
      ],
      "text/plain": [
       "                                                            ⎛ ⎛ x⎞⎞       ⎛ ⎛ \n",
       "                                                            ⎜ ⎝x ⎠⎟       ⎜ ⎝x\n",
       "  ⎛ ⎛ x⎞ ⎛                          x⎞            ⎛ x⎞⎞     ⎝x    ⎠       ⎝x  \n",
       "  ⎜ ⎝x ⎠ ⎜ x                       x ⎟    ⎛ x⎞    ⎝x ⎠⎟ ⎛ x⎞          ⎛ x⎞    \n",
       "x⋅⎜x    ⋅⎜x ⋅(log(x) + 1)⋅log(x) + ──⎟⋅log⎝ℯ ⎠ + x    ⎟⋅⎝ℯ ⎠        + ⎝ℯ ⎠    \n",
       "  ⎝      ⎝                         x ⎠                ⎠                       \n",
       "\n",
       "x⎞⎞\n",
       " ⎠⎟\n",
       "  ⎠\n",
       "   \n",
       "   \n",
       "   "
      ]
     },
     "execution_count": 77,
     "metadata": {},
     "output_type": "execute_result"
    }
   ],
   "source": [
    "expr = x * exp(x) ** x ** x ** x\n",
    "diff(expr, x)"
   ]
  },
  {
   "cell_type": "markdown",
   "metadata": {},
   "source": [
    "Question 5"
   ]
  },
  {
   "cell_type": "code",
   "execution_count": 106,
   "metadata": {},
   "outputs": [
    {
     "data": {
      "image/png": "[encoded data removed]",
      "text/latex": [
       "$$1$$"
      ],
      "text/plain": [
       "1"
      ]
     },
     "execution_count": 106,
     "metadata": {},
     "output_type": "execute_result"
    }
   ],
   "source": [
    "x = sp.Symbol(\"x\")\n",
    "limit(sin(x)/x, x, 0)"
   ]
  },
  {
   "cell_type": "code",
   "execution_count": 105,
   "metadata": {},
   "outputs": [
    {
     "data": {
      "image/png": "[encoded data removed]",
      "text/latex": [
       "$$\\langle -1, 1\\rangle$$"
      ],
      "text/plain": [
       "<-1, 1>"
      ]
     },
     "execution_count": 105,
     "metadata": {},
     "output_type": "execute_result"
    }
   ],
   "source": [
    "limit(sin(1/x), x, 0)"
   ]
  },
  {
   "cell_type": "markdown",
   "metadata": {},
   "source": [
    "Ex 4 : Application\n",
    "Le but est d’utiliser Sympy pour résoudre symboliquement différents problèmes mathématiquesen \n",
    "1. Déterminer le nombre de zéro que contient l’entier 123!\n",
    "2. Déterminer le rapport entre la hauteur et le rayon d’un cylindre de manière à minimiser son aire à volume fixé\n",
    "3. Pour x,y∈R tels que xy <1, démontrer que arctan(x) + arctan(y) = arctan(x+y/1−xy)\n",
    "\n",
    "    "
   ]
  },
  {
   "cell_type": "markdown",
   "metadata": {},
   "source": [
    "Question 1"
   ]
  },
  {
   "cell_type": "code",
   "execution_count": 113,
   "metadata": {},
   "outputs": [
    {
     "data": {
      "image/png": "[encoded data removed]",
      "text/latex": [
       "$$42$$"
      ],
      "text/plain": [
       "42"
      ]
     },
     "execution_count": 113,
     "metadata": {},
     "output_type": "execute_result"
    }
   ],
   "source": [
    "str(factorial(123)).count('0')"
   ]
  },
  {
   "cell_type": "markdown",
   "metadata": {},
   "source": [
    "Question 2"
   ]
  },
  {
   "cell_type": "code",
   "execution_count": 115,
   "metadata": {},
   "outputs": [
    {
     "data": {
      "image/png": "[encoded data removed]",
      "text/latex": [
       "$$\\left [ \\right ]$$"
      ],
      "text/plain": [
       "[]"
      ]
     },
     "execution_count": 115,
     "metadata": {},
     "output_type": "execute_result"
    }
   ],
   "source": [
    "h = sp.Symbol(\"h\")\n",
    "R = var('R')\n",
    "expr = diff(1/R + 1/h, R)\n",
    "solve(expr)"
   ]
  },
  {
   "cell_type": "markdown",
   "metadata": {},
   "source": [
    "Question 3"
   ]
  },
  {
   "cell_type": "code",
   "execution_count": 116,
   "metadata": {},
   "outputs": [
    {
     "data": {
      "image/png": "[encoded data removed]",
      "text/latex": [
       "$$- \\frac{x + y}{x y - 1}$$"
      ],
      "text/plain": [
       "-(x + y) \n",
       "─────────\n",
       " x⋅y - 1 "
      ]
     },
     "execution_count": 116,
     "metadata": {},
     "output_type": "execute_result"
    }
   ],
   "source": [
    "var('x')\n",
    "var('y')\n",
    "\"\"\" Trigonométrie simplifiée \"\"\"\n",
    "trigsimp(tan(atan(x) + atan(y)))"
   ]
  }
 ],
 "metadata": {
  "kernelspec": {
   "display_name": "Python 3",
   "language": "python",
   "name": "python3"
  },
  "language_info": {
   "codemirror_mode": {
    "name": "ipython",
    "version": 3
   },
   "file_extension": ".py",
   "mimetype": "text/x-python",
   "name": "python",
   "nbconvert_exporter": "python",
   "pygments_lexer": "ipython3",
   "version": "3.7.0"
  }
 },
 "nbformat": 4,
 "nbformat_minor": 4
}
